{
 "cells": [
  {
   "cell_type": "code",
   "execution_count": 72,
   "metadata": {},
   "outputs": [],
   "source": [
    "import pyspark\n",
    "from pyspark.sql import SparkSession\n",
    "spark = SparkSession.builder.master(\"local[*]\") \\\n",
    "                    .getOrCreate()\n",
    "\n",
    "df = spark.read.option(\"header\",True) \\\n",
    "    .csv(\"DataSample.csv\")\n",
    "df.createOrReplaceTempView(\"data\")\n",
    "\n",
    "# clean data\n",
    "sqlDF = spark.sql(\"SELECT * \\\n",
    "FROM data a \\\n",
    "WHERE a._ID IN \\\n",
    "  (SELECT _ID FROM \\\n",
    "     (SELECT \\\n",
    "      _ID, \\\n",
    "      ROW_NUMBER() OVER \\\n",
    "        (PARTITION BY data. TimeSt, data.Country, data.Province, data.City, data.Latitude, data.Longitude ORDER BY _ID) dup \\\n",
    "    FROM data) \\\n",
    "    WHERE dup < 2);\")\n",
    "\n",
    "sqlDF.write.option(\"header\",True) \\\n",
    " .csv(\"DataEdited\")"
   ]
  },
  {
   "cell_type": "code",
   "execution_count": 107,
   "metadata": {},
   "outputs": [],
   "source": [
    "import pyspark\n",
    "from pyspark.sql.types import FloatType\n",
    "from pyspark.sql.functions import udf\n",
    "from pyspark.sql import SparkSession\n",
    "from pyspark.sql.functions import *\n",
    "from geopy import distance\n",
    "\n",
    "spark = SparkSession.builder.master(\"local[*]\") \\\n",
    "                    .getOrCreate()\n",
    "\n",
    "df = spark.read.options(header='True',inferSchema='True',delimiter=',') \\\n",
    "    .csv(\"CleanedData.csv\")\n",
    "df.createOrReplaceTempView(\"data\")\n",
    "\n",
    "dfpoi = spark.read.options(header='True',inferSchema='True',delimiter=',') \\\n",
    "    .csv(\"POIList.csv\")\n",
    "dfpoi.createOrReplaceTempView(\"pois\")\n",
    "\n",
    "\n",
    "def dist(a,b,x,y):\n",
    "    return distance.distance((a,b),(x,y)).km\n",
    "udf_dist = udf(dist, FloatType())\n",
    "\n",
    "# temp changed headers to make this work\n",
    "distances = df.join(dfpoi).withColumn('distance', udf_dist(df.Latitude,df.Longitude,dfpoi.Latitude2,dfpoi.Longitude2))\n",
    "min_distances = distances.groupBy('_ID').min('distance')\n",
    "#final_distances = df.join(min_distances, df._ID == min_distances._ID).select(df[\"*\"],min_distances[\"min(distance)\"])\n",
    "final_distances = distances.join(min_distances, distances._ID == min_distances._ID).select(distances[\"*\"],min_distances[\"min(distance)\"])\n",
    "df_filtered = final_distances.filter(final_distances[\"distance\"]==final_distances[\"min(distance)\"])\n",
    "\n",
    "df_filtered.write.option(\"header\",True) \\\n",
    " .csv(\"DataCalculated\")\n",
    "\n",
    "# pois.count()\n",
    "\n",
    "# sqlDF = spark.sql()\n",
    "# geopy.distance.distance(c1, c2)"
   ]
  },
  {
   "cell_type": "code",
   "execution_count": null,
   "metadata": {},
   "outputs": [],
   "source": []
  }
 ],
 "metadata": {
  "kernelspec": {
   "display_name": "Python 3",
   "language": "python",
   "name": "python3"
  },
  "language_info": {
   "codemirror_mode": {
    "name": "ipython",
    "version": 3
   },
   "file_extension": ".py",
   "mimetype": "text/x-python",
   "name": "python",
   "nbconvert_exporter": "python",
   "pygments_lexer": "ipython3",
   "version": "3.8.5"
  }
 },
 "nbformat": 4,
 "nbformat_minor": 4
}
