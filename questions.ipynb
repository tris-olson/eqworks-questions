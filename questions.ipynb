{
 "cells": [
  {
   "cell_type": "code",
   "execution_count": 38,
   "metadata": {},
   "outputs": [],
   "source": [
    "import pyspark\n",
    "from pyspark.sql import SparkSession\n",
    "spark = SparkSession.builder.master(\"local[*]\") \\\n",
    "                    .getOrCreate()\n",
    "\n",
    "df = spark.read.option(\"header\",True) \\\n",
    "    .csv(\"work/DataSample.csv\")\n",
    "df.createOrReplaceTempView(\"data\")\n",
    "\n",
    "# clean data\n",
    "sqlDF = spark.sql(\"SELECT * \\\n",
    "FROM data a \\\n",
    "WHERE a._ID IN \\\n",
    "  (SELECT _ID FROM \\\n",
    "     (SELECT \\\n",
    "      _ID, \\\n",
    "      ROW_NUMBER() OVER \\\n",
    "        (PARTITION BY data. TimeSt, data.Country, data.Province, data.City, data.Latitude, data.Longitude ORDER BY _ID) dup \\\n",
    "    FROM data) \\\n",
    "    WHERE dup < 2);\")\n",
    "\n",
    "sqlDF.write.option(\"header\",True) \\\n",
    " .csv(\"work/DataEdited\")"
   ]
  },
  {
   "cell_type": "code",
   "execution_count": null,
   "metadata": {},
   "outputs": [],
   "source": [
    "import pyspark\n",
    "from pyspark.sql import SparkSession\n",
    "spark = SparkSession.builder.master(\"local[*]\") \\\n",
    "                    .getOrCreate()\n",
    "\n",
    "df = spark.read.option(\"header\",True) \\\n",
    "    .csv(\"work/CleanedData.csv\")\n",
    "df.createOrReplaceTempView(\"data\")"
   ]
  }
 ],
 "metadata": {
  "kernelspec": {
   "display_name": "Python 3",
   "language": "python",
   "name": "python3"
  },
  "language_info": {
   "codemirror_mode": {
    "name": "ipython",
    "version": 3
   },
   "file_extension": ".py",
   "mimetype": "text/x-python",
   "name": "python",
   "nbconvert_exporter": "python",
   "pygments_lexer": "ipython3",
   "version": "3.8.5"
  }
 },
 "nbformat": 4,
 "nbformat_minor": 4
}
